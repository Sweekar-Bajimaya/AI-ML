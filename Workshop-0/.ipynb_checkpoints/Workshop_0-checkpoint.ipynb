{
 "cells": [
  {
   "cell_type": "markdown",
   "id": "22146dc5-717b-44eb-912f-32a700e8f683",
   "metadata": {},
   "source": [
    "# Exercise on Functions"
   ]
  },
  {
   "cell_type": "markdown",
   "id": "b7ddb5c8-d363-4b0e-aaca-d3fbca3656ed",
   "metadata": {},
   "source": [
    "## Task 1: Unit Conversion Program"
   ]
  },
  {
   "cell_type": "code",
   "execution_count": 30,
   "id": "0cd61c0c-a0fa-4f09-ab8f-b67696335244",
   "metadata": {},
   "outputs": [
    {
     "name": "stdin",
     "output_type": "stream",
     "text": [
      "Choose conversion type (length/weight/volume):  length\n",
      "Enter the value to convert:  25\n"
     ]
    },
    {
     "name": "stdout",
     "output_type": "stream",
     "text": [
      "Choose conversion:\n",
      "m to to to ft\n",
      "ft to to to m\n"
     ]
    },
    {
     "name": "stdin",
     "output_type": "stream",
     "text": [
      "Enter conversion choice:  m to to to ft \n"
     ]
    },
    {
     "name": "stdout",
     "output_type": "stream",
     "text": [
      "Converted value: 82.021\n"
     ]
    }
   ],
   "source": [
    "def convert_units():\n",
    "    \"\"\"\n",
    "    Converts between different units of measurement (Length, Weight, Volume).\n",
    "    \"\"\"\n",
    "    conversions = {\n",
    "        \"length\": {\"m_to_ft\": 3.28084, \"ft_to_m\": 0.3048},\n",
    "        \"weight\": {\"kg_to_lbs\": 2.20462, \"lbs_to_kg\": 0.453592},\n",
    "        \"volume\": {\"L_to_gal\": 0.264172, \"gal_to_L\": 3.78541}\n",
    "    }\n",
    "    \n",
    "    try:\n",
    "        conv_type = input(\"Choose conversion type (length/weight/volume): \").strip().lower()\n",
    "        if conv_type not in conversions:\n",
    "            raise ValueError(\"Invalid conversion type!\")\n",
    "        \n",
    "        value = float(input(\"Enter the value to convert: \"))\n",
    "        \n",
    "        print(\"Choose conversion:\")\n",
    "        for key in conversions[conv_type]:\n",
    "            print(key.replace(\"_\", \" to \"))\n",
    "        \n",
    "        conv_choice = input(\"Enter conversion choice: \").strip().replace(\" to \", \"_\")\n",
    "        if conv_choice not in conversions[conv_type]:\n",
    "            raise ValueError(\"Invalid conversion choice!\")\n",
    "        \n",
    "        result = value * conversions[conv_type][conv_choice]\n",
    "        print(f\"Converted value: {result}\")\n",
    "        \n",
    "    except ValueError as e:\n",
    "        print(f\"Error: {e}\")\n",
    "\n",
    "convert_units()"
   ]
  },
  {
   "cell_type": "markdown",
   "id": "199ef934-cc8d-4ac5-8c92-619cd992c85c",
   "metadata": {},
   "source": [
    "## Task 2: Mathematical Operations on a List"
   ]
  },
  {
   "cell_type": "code",
   "execution_count": 31,
   "id": "bc2f5418-eebe-416e-9d77-67209ee19892",
   "metadata": {},
   "outputs": [
    {
     "name": "stdin",
     "output_type": "stream",
     "text": [
      "Enter numbers separated by space:  2 4 6 8 10 12 14 16 18 20 \n",
      "Choose operation (sum/average/max/min):  sum \n"
     ]
    },
    {
     "name": "stdout",
     "output_type": "stream",
     "text": [
      "Result: 110.0\n"
     ]
    }
   ],
   "source": [
    "def sum_numbers(lst):\n",
    "    \"\"\"Returns the sum of the list.\"\"\"\n",
    "    return sum(lst)\n",
    "\n",
    "def avg_numbers(lst):\n",
    "    \"\"\"Returns the average of the list.\"\"\"\n",
    "    return sum(lst) / len(lst) if lst else 0\n",
    "\n",
    "def max_number(lst):\n",
    "    \"\"\"Returns the maximum number in the list.\"\"\"\n",
    "    return max(lst)\n",
    "\n",
    "def min_number(lst):\n",
    "    \"\"\"Returns the minimum number in the list.\"\"\"\n",
    "    return min(lst)\n",
    "\n",
    "def list_operations():\n",
    "    \"\"\"Prompts the user for list operations.\"\"\"\n",
    "    try:\n",
    "        numbers = list(map(float, input(\"Enter numbers separated by space: \").split()))\n",
    "        operation = input(\"Choose operation (sum/average/max/min): \").strip().lower()\n",
    "        \n",
    "        operations = {\n",
    "            \"sum\": sum_numbers,\n",
    "            \"average\": avg_numbers,\n",
    "            \"max\": max_number,\n",
    "            \"min\": min_number\n",
    "        }\n",
    "        \n",
    "        if operation not in operations:\n",
    "            raise ValueError(\"Invalid operation!\")\n",
    "        \n",
    "        print(f\"Result: {operations[operation](numbers)}\")\n",
    "        \n",
    "    except ValueError as e:\n",
    "        print(f\"Error: {e}\")\n",
    "\n",
    "list_operations()"
   ]
  },
  {
   "cell_type": "markdown",
   "id": "b4250385-1d7b-42ed-9734-728da1e1430d",
   "metadata": {},
   "source": [
    "# Exercise on List Manipulation"
   ]
  },
  {
   "cell_type": "markdown",
   "id": "5f1cf0fb-7807-4db6-b658-3ef97242b2ef",
   "metadata": {},
   "source": [
    "## Task 3: List Manipulation Functions"
   ]
  },
  {
   "cell_type": "code",
   "execution_count": 5,
   "id": "bb49587b-33ca-4a4e-89d7-cc72af61282b",
   "metadata": {},
   "outputs": [],
   "source": [
    "# 1. Extract Every Other Element\n",
    "def extract_every_other(lst):\n",
    "    return lst[::2]\n",
    "\n",
    "# 2. Slice a Sublist:\n",
    "def get_sublist(lst, start, end):\n",
    "    return lst[start:end+1]\n",
    "\n",
    "# 3. Reverse a List Using Slicing\n",
    "def reverse_list(lst):\n",
    "    return lst[::-1]\n",
    "\n",
    "# 4. Remove the First and Last Elements\n",
    "def remove_first_last(lst):\n",
    "    return lst[1:-1]\n",
    "\n",
    "# 5. Get the First n Elements\n",
    "def get_first_n(lst, n):\n",
    "    return lst[:n]\n",
    "\n",
    "# 6. Extract Elements from the End\n",
    "def get_last_n(lst, n):\n",
    "    return lst[-n:]\n",
    "\n",
    "# 7. Extract Elements in Reverse Order:\n",
    "def reverse_skip(lst):\n",
    "    return lst[-2::-2]"
   ]
  },
  {
   "cell_type": "code",
   "execution_count": 15,
   "id": "c75927f7-fb16-408c-a677-d8b8393466ba",
   "metadata": {},
   "outputs": [
    {
     "name": "stdout",
     "output_type": "stream",
     "text": [
      "Extract Every Other: [1, 3, 5]\n",
      "Slice a Sublist: [3, 4, 5]\n",
      "Reverse a List: [5, 4, 3, 2, 1]\n",
      "Remove First and Last: [2, 3, 4]\n",
      "Get First n Elements: [1, 2, 3]\n",
      "Extract Elements from End: [4, 5]\n",
      "Extract Elements in Reverse Order: [5, 3, 1]\n"
     ]
    }
   ],
   "source": [
    "# Example Inputs and Outputs\n",
    "sample_list_1 = [1, 2, 3, 4, 5, 6]\n",
    "sample_list_2 = [1, 2, 3, 4, 5]\n",
    "\n",
    "print(\"Extract Every Other:\", extract_every_other(sample_list_1))\n",
    "print(\"Slice a Sublist:\", get_sublist(sample_list_1, 2, 4))\n",
    "print(\"Reverse a List:\", reverse_list(sample_list_2))\n",
    "print(\"Remove First and Last:\", remove_first_last(sample_list_2))\n",
    "print(\"Get First n Elements:\", get_first_n(sample_list_2, 3))\n",
    "print(\"Extract Elements from End:\", get_last_n(sample_list_2, 2))\n",
    "print(\"Extract Elements in Reverse Order:\", reverse_skip(sample_list_1))"
   ]
  },
  {
   "cell_type": "markdown",
   "id": "ba447899-fcc1-4e9f-82a1-c1af7dbf39b5",
   "metadata": {},
   "source": [
    "# Exercise on Nested list "
   ]
  },
  {
   "cell_type": "markdown",
   "id": "293c5780-b589-4465-92fa-69dcd4d110a4",
   "metadata": {},
   "source": [
    "## Task 4: Nested List Functions"
   ]
  },
  {
   "cell_type": "code",
   "execution_count": 20,
   "id": "bc5b8b82-be84-47ae-833d-75af295b04f5",
   "metadata": {},
   "outputs": [],
   "source": [
    "# 1. Flatten a Nested List\n",
    "def flatten(lst):\n",
    "    return [item for sublist in lst for item in (sublist if isinstance(sublist, list) else [sublist])]\n",
    "\n",
    "# 2. Accessing Nested List Elements\n",
    "def access_nested_element(lst, indices):\n",
    "    element = lst\n",
    "    for index in indices:\n",
    "        element = element[index]\n",
    "    return element\n",
    "\n",
    "# 3. Sum of All Elements in a Nested List\n",
    "def sum_nested(lst):\n",
    "    if isinstance(lst, int):\n",
    "        return lst\n",
    "    return sum(sum_nested(item) for item in lst)\n",
    "\n",
    "# 4. Remove Specific Element from a Nested List\n",
    "def remove_element(lst, elem):\n",
    "    return [[item for item in sublist if item != elem] for sublist in lst]\n",
    "\n",
    "# 5. Find the Maximum Element in a Nested List\n",
    "def find_max(lst):\n",
    "def find_max(lst):\n",
    "    flat_list = deep_flatten(lst)\n",
    "    return max(flat_list)\n",
    "    \n",
    "# 6. Count Occurrences of an Element in a Nested List\n",
    "def count_occurrences(lst, elem):\n",
    "    flat_list = flatten(lst)\n",
    "    return flat_list.count(elem)\n",
    "\n",
    "# 7. Flatten a List of Lists of Lists\n",
    "def deep_flatten(lst):\n",
    "    if not isinstance(lst, list):\n",
    "        return [lst]\n",
    "    result = []\n",
    "    for item in lst:\n",
    "        result.extend(deep_flatten(item))\n",
    "    return result\n",
    "\n",
    "# 8. Nested List Average\n",
    "def average_nested(lst):\n",
    "    flat_list = deep_flatten(lst)\n",
    "    return sum(flat_list) / len(flat_list) if flat_list else 0"
   ]
  },
  {
   "cell_type": "code",
   "execution_count": 21,
   "id": "d29c4232-ca8f-4a4d-ba4a-d2cbb2c90f22",
   "metadata": {},
   "outputs": [
    {
     "name": "stdout",
     "output_type": "stream",
     "text": [
      "Flatten: [1, 2, 3, 4, 5]\n",
      "Access Nested Element: 6\n",
      "Sum of Nested List: 21\n",
      "Remove Specific Element: [[1], [3], [4, 5]]\n",
      "Find Max: 6\n",
      "Count Occurrences: 3\n",
      "Deep Flatten: [1, 2, 3, 4, 5, 6, 7, 8]\n",
      "Nested List Average: 3.5\n"
     ]
    }
   ],
   "source": [
    "# Example Inputs and Outputs\n",
    "nested_list_1 = [[1, 2], [3, 4], [5]]\n",
    "nested_list_2 = [[1, 2, 3], [4, 5, 6], [7, 8, 9]]\n",
    "nested_list_3 = [[1, 2], [3, [4, 5]], 6]\n",
    "nested_list_4 = [[[1, 2], [3, 4]], [[5, 6], [7, 8]]]\n",
    "\n",
    "element_to_remove = 2\n",
    "indices_to_access = [1, 2]\n",
    "\n",
    "print(\"Flatten:\", flatten(nested_list_1))\n",
    "print(\"Access Nested Element:\", access_nested_element(nested_list_2, indices_to_access))\n",
    "print(\"Sum of Nested List:\", sum_nested(nested_list_3))\n",
    "print(\"Remove Specific Element:\", remove_element([[1, 2], [3, 2], [4, 5]], element_to_remove))\n",
    "print(\"Find Max:\", find_max(nested_list_3))\n",
    "print(\"Count Occurrences:\", count_occurrences([[1, 2], [2, 3], [2, 4]], element_to_remove))\n",
    "print(\"Deep Flatten:\", deep_flatten(nested_list_4))\n",
    "print(\"Nested List Average:\", average_nested([[1, 2], [3, 4], [5, 6]]))"
   ]
  },
  {
   "cell_type": "markdown",
   "id": "b2c0e146-843a-4ee6-9397-635bbab86657",
   "metadata": {},
   "source": [
    "# Basic Vector and Matrix Operation with Numpy"
   ]
  },
  {
   "cell_type": "markdown",
   "id": "0c684726-1788-40c2-9855-fc4d8d8615e3",
   "metadata": {},
   "source": [
    "## Problem - 1: Array Creation"
   ]
  },
  {
   "cell_type": "code",
   "execution_count": 32,
   "id": "78284647-dce4-4c0f-a25b-371a3b757a98",
   "metadata": {},
   "outputs": [
    {
     "name": "stdout",
     "output_type": "stream",
     "text": [
      "Empty Array:\n",
      " [[ 1.20784544e-311  1.20784544e-311]\n",
      " [ 1.20784544e-311 -2.38827024e+078]]\n",
      "\n",
      "All Ones Array:\n",
      " [[1. 1.]\n",
      " [1. 1.]\n",
      " [1. 1.]\n",
      " [1. 1.]]\n",
      "\n",
      "Filled Array:\n",
      " [[7 7 7]\n",
      " [7 7 7]\n",
      " [7 7 7]]\n",
      "\n",
      "Zeros Like Array:\n",
      " [[0 0 0]\n",
      " [0 0 0]]\n",
      "\n",
      "Ones Like Array:\n",
      " [[1 1 1]\n",
      " [1 1 1]]\n",
      "\n",
      "Converted NumPy Array:\n",
      " [1 2 3 4]\n"
     ]
    }
   ],
   "source": [
    "import numpy as np\n",
    "\n",
    "# 1. Initialize an empty array with size 2x2\n",
    "empty_array = np.empty((2, 2))\n",
    "print(\"Empty Array:\\n\", empty_array)\n",
    "\n",
    "# 2. Initialize an all-one array with size 4x2\n",
    "ones_array = np.ones((4, 2))\n",
    "print(\"\\nAll Ones Array:\\n\", ones_array)\n",
    "\n",
    "# 3. Return a new array of given shape and type, filled with fill value\n",
    "fill_value = 7\n",
    "filled_array = np.full((3, 3), fill_value)\n",
    "print(\"\\nFilled Array:\\n\", filled_array)\n",
    "\n",
    "# 4. Return a new array of zeros with the same shape and type as a given array\n",
    "reference_array = np.array([[1, 2, 3], [4, 5, 6]])\n",
    "zeros_like_array = np.zeros_like(reference_array)\n",
    "print(\"\\nZeros Like Array:\\n\", zeros_like_array)\n",
    "\n",
    "# 5. Return a new array of ones with the same shape and type as a given array\n",
    "ones_like_array = np.ones_like(reference_array)\n",
    "print(\"\\nOnes Like Array:\\n\", ones_like_array)\n",
    "\n",
    "# 6. Convert an existing list to a numpy array\n",
    "new_list = [1, 2, 3, 4]\n",
    "numpy_array = np.array(new_list)\n",
    "print(\"\\nConverted NumPy Array:\\n\", numpy_array)"
   ]
  },
  {
   "cell_type": "markdown",
   "id": "8db897dc-538c-4491-9c54-af567579b24a",
   "metadata": {},
   "source": [
    "## Problem - 2: Array Manipulation: Numerical Ranges and Array indexing"
   ]
  },
  {
   "cell_type": "code",
   "execution_count": 33,
   "id": "2a7c128e-9ee2-4811-b8aa-b05b8c8055fd",
   "metadata": {},
   "outputs": [
    {
     "name": "stdout",
     "output_type": "stream",
     "text": [
      "Flatten: [1, 2, 3, 4, 5]\n",
      "Access Nested Element: 6\n",
      "Sum of Nested List: 21\n",
      "Remove Specific Element: [[1], [3], [4, 5]]\n",
      "Find Max: 6\n",
      "Count Occurrences: 3\n",
      "Deep Flatten: [1, 2, 3, 4, 5, 6, 7, 8]\n",
      "Nested List Average: 3.5\n",
      "Array from 10 to 49: [10 11 12 13 14 15 16 17 18 19 20 21 22 23 24 25 26 27 28 29 30 31 32 33\n",
      " 34 35 36 37 38 39 40 41 42 43 44 45 46 47 48 49]\n",
      "3x3 Matrix with values 0 to 8: [[0 1 2]\n",
      " [3 4 5]\n",
      " [6 7 8]]\n",
      "3x3 Identity Matrix: [[1. 0. 0.]\n",
      " [0. 1. 0.]\n",
      " [0. 0. 1.]]\n",
      "Mean of Random Array: 0.47085191450476777\n",
      "Min and Max of 10x10 Random Matrix: 0.0030373724490564413 0.9988110643641062\n",
      "Zero array with 5th element as 1: [0. 0. 0. 0. 1. 0. 0. 0. 0. 0.]\n",
      "Reversed Array: [0 4 0 0 2 1]\n",
      "2D Array with 1 border and 0 inside: [[1. 1. 1. 1. 1.]\n",
      " [1. 0. 0. 0. 1.]\n",
      " [1. 0. 0. 0. 1.]\n",
      " [1. 0. 0. 0. 1.]\n",
      " [1. 1. 1. 1. 1.]]\n",
      "8x8 Checkerboard Pattern: [[0. 1. 0. 1. 0. 1. 0. 1.]\n",
      " [1. 0. 1. 0. 1. 0. 1. 0.]\n",
      " [0. 1. 0. 1. 0. 1. 0. 1.]\n",
      " [1. 0. 1. 0. 1. 0. 1. 0.]\n",
      " [0. 1. 0. 1. 0. 1. 0. 1.]\n",
      " [1. 0. 1. 0. 1. 0. 1. 0.]\n",
      " [0. 1. 0. 1. 0. 1. 0. 1.]\n",
      " [1. 0. 1. 0. 1. 0. 1. 0.]]\n"
     ]
    }
   ],
   "source": [
    "def flatten(lst):\n",
    "    return [item for sublist in lst for item in (sublist if isinstance(sublist, list) else [sublist])]\n",
    "\n",
    "def access_nested_element(lst, indices):\n",
    "    element = lst\n",
    "    for index in indices:\n",
    "        element = element[index]\n",
    "    return element\n",
    "\n",
    "def sum_nested(lst):\n",
    "    if isinstance(lst, int):\n",
    "        return lst\n",
    "    return sum(sum_nested(item) for item in lst)\n",
    "\n",
    "def remove_element(lst, elem):\n",
    "    return [[item for item in sublist if item != elem] for sublist in lst]\n",
    "\n",
    "def deep_flatten(lst):\n",
    "    if not isinstance(lst, list):\n",
    "        return [lst]\n",
    "    result = []\n",
    "    for item in lst:\n",
    "        result.extend(deep_flatten(item))\n",
    "    return result\n",
    "\n",
    "def find_max(lst):\n",
    "    flat_list = deep_flatten(lst)\n",
    "    return max(flat_list)\n",
    "\n",
    "def count_occurrences(lst, elem):\n",
    "    flat_list = flatten(lst)\n",
    "    return flat_list.count(elem)\n",
    "\n",
    "def average_nested(lst):\n",
    "    flat_list = deep_flatten(lst)\n",
    "    return sum(flat_list) / len(flat_list) if flat_list else 0\n",
    "\n",
    "# Example Inputs and Outputs\n",
    "nested_list_1 = [[1, 2], [3, 4], [5]]\n",
    "nested_list_2 = [[1, 2, 3], [4, 5, 6], [7, 8, 9]]\n",
    "nested_list_3 = [[1, 2], [3, [4, 5]], 6]\n",
    "nested_list_4 = [[[1, 2], [3, 4]], [[5, 6], [7, 8]]]\n",
    "\n",
    "element_to_remove = 2\n",
    "indices_to_access = [1, 2]\n",
    "\n",
    "print(\"Flatten:\", flatten(nested_list_1))\n",
    "print(\"Access Nested Element:\", access_nested_element(nested_list_2, indices_to_access))\n",
    "print(\"Sum of Nested List:\", sum_nested(nested_list_3))\n",
    "print(\"Remove Specific Element:\", remove_element([[1, 2], [3, 2], [4, 5]], element_to_remove))\n",
    "print(\"Find Max:\", find_max(nested_list_3))\n",
    "print(\"Count Occurrences:\", count_occurrences([[1, 2], [2, 3], [2, 4]], element_to_remove))\n",
    "print(\"Deep Flatten:\", deep_flatten(nested_list_4))\n",
    "print(\"Nested List Average:\", average_nested([[1, 2], [3, 4], [5, 6]]))\n",
    "\n",
    "# Array Manipulation: Numerical Ranges and Array Indexing\n",
    "print(\"Array from 10 to 49:\", np.arange(10, 50))\n",
    "print(\"3x3 Matrix with values 0 to 8:\", np.arange(9).reshape(3, 3))\n",
    "print(\"3x3 Identity Matrix:\", np.eye(3))\n",
    "\n",
    "random_array = np.random.random(30)\n",
    "print(\"Mean of Random Array:\", random_array.mean())\n",
    "\n",
    "random_matrix = np.random.random((10, 10))\n",
    "print(\"Min and Max of 10x10 Random Matrix:\", random_matrix.min(), random_matrix.max())\n",
    "\n",
    "zero_array = np.zeros(10)\n",
    "zero_array[4] = 1\n",
    "print(\"Zero array with 5th element as 1:\", zero_array)\n",
    "\n",
    "arr = np.array([1, 2, 0, 0, 4, 0])\n",
    "print(\"Reversed Array:\", arr[::-1])\n",
    "\n",
    "border_array = np.ones((5, 5))\n",
    "border_array[1:-1, 1:-1] = 0\n",
    "print(\"2D Array with 1 border and 0 inside:\", border_array)\n",
    "\n",
    "checkerboard = np.zeros((8, 8))\n",
    "checkerboard[1::2, ::2] = 1\n",
    "checkerboard[::2, 1::2] = 1\n",
    "print(\"8x8 Checkerboard Pattern:\", checkerboard)"
   ]
  },
  {
   "cell_type": "markdown",
   "id": "2aebb874-c321-4c8c-a3a0-5efcd81746d1",
   "metadata": {},
   "source": [
    "## Problem - 3: Array Operations"
   ]
  },
  {
   "cell_type": "code",
   "execution_count": 34,
   "id": "256d433b-f3d5-42f0-a87f-0e5c89058b34",
   "metadata": {},
   "outputs": [
    {
     "name": "stdout",
     "output_type": "stream",
     "text": [
      "Addition of x and y: [[ 6  8]\n",
      " [10 13]]\n",
      "Subtraction of x and y: [[-4 -4]\n",
      " [-4 -3]]\n",
      "Multiplication of x by 2: [[ 2  4]\n",
      " [ 6 10]]\n",
      "Square of x: [[ 1  4]\n",
      " [ 9 25]]\n",
      "Dot product of v and w: 219\n",
      "Dot product of x and v: [29 77]\n",
      "Dot product of x and y: [[19 22]\n",
      " [50 58]]\n",
      "Concatenation of x and y along rows: [[1 2]\n",
      " [3 5]\n",
      " [5 6]\n",
      " [7 8]]\n",
      "Concatenation of v and w along columns: [[ 9 11]\n",
      " [10 12]]\n",
      "Error in concatenating x and v: all the input arrays must have same number of dimensions, but the array at index 0 has 2 dimension(s) and the array at index 1 has 1 dimension(s)\n"
     ]
    }
   ],
   "source": [
    "x = np.array([[1, 2], [3, 5]])\n",
    "y = np.array([[5, 6], [7, 8]])\n",
    "v = np.array([9, 10])\n",
    "w = np.array([11, 12])\n",
    "\n",
    "print(\"Addition of x and y:\", x + y)\n",
    "print(\"Subtraction of x and y:\", x - y)\n",
    "print(\"Multiplication of x by 2:\", x * 2)\n",
    "print(\"Square of x:\", np.square(x))\n",
    "print(\"Dot product of v and w:\", np.dot(v, w))\n",
    "print(\"Dot product of x and v:\", np.dot(x, v))\n",
    "print(\"Dot product of x and y:\", np.dot(x, y))\n",
    "print(\"Concatenation of x and y along rows:\", np.concatenate((x, y), axis=0))\n",
    "print(\"Concatenation of v and w along columns:\", np.column_stack((v, w)))\n",
    "\n",
    "try:\n",
    "    print(\"Concatenation of x and v:\", np.concatenate((x, v), axis=0))\n",
    "except ValueError as e:\n",
    "    print(\"Error in concatenating x and v:\", e)"
   ]
  },
  {
   "cell_type": "markdown",
   "id": "209a8705-3665-4319-b06b-3007f6b5e372",
   "metadata": {},
   "source": [
    "## Problem - 4: Matrix Operations "
   ]
  },
  {
   "cell_type": "code",
   "execution_count": 35,
   "id": "76e03d4d-471b-479d-8783-1f6b17e1e0ce",
   "metadata": {},
   "outputs": [
    {
     "name": "stdout",
     "output_type": "stream",
     "text": [
      "A * A⁻¹: [[1.00000000e+00 0.00000000e+00]\n",
      " [1.77635684e-15 1.00000000e+00]]\n",
      "AB: [[23 13]\n",
      " [51 29]]\n",
      "BA: [[36 44]\n",
      " [13 16]]\n",
      "AB == BA: False\n",
      "(AB)^T: [[23 51]\n",
      " [13 29]]\n",
      "B^T * A^T: [[23 51]\n",
      " [13 29]]\n",
      "(AB)^T == B^T * A^T: True\n",
      "Solution to the system of equations: [ 2.  1. -2.]\n"
     ]
    }
   ],
   "source": [
    "A = np.array([[3, 4], [7, 8]])\n",
    "B = np.array([[5, 3], [2, 1]])\n",
    "\n",
    "# Proving A.A⁻¹ = I\n",
    "A_inv = np.linalg.inv(A)\n",
    "identity_matrix = np.dot(A, A_inv)\n",
    "print(\"A * A⁻¹:\", identity_matrix)\n",
    "\n",
    "# Proving AB ≠ BA\n",
    "AB = np.dot(A, B)\n",
    "BA = np.dot(B, A)\n",
    "print(\"AB:\", AB)\n",
    "print(\"BA:\", BA)\n",
    "print(\"AB == BA:\", np.array_equal(AB, BA))\n",
    "\n",
    "# Proving (AB)^T = B^T * A^T\n",
    "AB_T = AB.T\n",
    "BT_AT = np.dot(B.T, A.T)\n",
    "print(\"(AB)^T:\", AB_T)\n",
    "print(\"B^T * A^T:\", BT_AT)\n",
    "print(\"(AB)^T == B^T * A^T:\", np.array_equal(AB_T, BT_AT))\n",
    "\n",
    "# Solving the system of linear equations\n",
    "coeff_matrix = np.array([[2, -3, 1], [1, -1, 2], [3, 1, -1]])\n",
    "const_matrix = np.array([-1, -3, 9])\n",
    "solution = np.linalg.solve(coeff_matrix, const_matrix)\n",
    "print(\"Solution to the system of equations:\", solution)\n"
   ]
  },
  {
   "cell_type": "markdown",
   "id": "ce747416-cc59-4866-b176-bc5ef6654722",
   "metadata": {},
   "source": [
    "## Experiment: How Fast is Numpy?"
   ]
  },
  {
   "cell_type": "code",
   "execution_count": null,
   "id": "1770ecd1-58b5-4348-844e-18a905c1d95f",
   "metadata": {},
   "outputs": [
    {
     "name": "stdout",
     "output_type": "stream",
     "text": [
      "Time taken for addition using Python lists: 0.17587733268737793\n",
      "Time taken for addition using NumPy: 0.009310245513916016\n",
      "Time taken for multiplication using Python lists: 0.18036341667175293\n",
      "Time taken for multiplication using NumPy: 0.0037031173706054688\n",
      "Time taken for dot product using Python lists: 0.1694788932800293\n",
      "Time taken for dot product using NumPy: 0.001575469970703125\n"
     ]
    }
   ],
   "source": [
    "import time\n",
    "\n",
    "def flatten(lst):\n",
    "    return [item for sublist in lst for item in (sublist if isinstance(sublist, list) else [sublist])]\n",
    "\n",
    "def access_nested_element(lst, indices):\n",
    "    element = lst\n",
    "    for index in indices:\n",
    "        element = element[index]\n",
    "    return element\n",
    "\n",
    "def sum_nested(lst):\n",
    "    if isinstance(lst, int):\n",
    "        return lst\n",
    "    return sum(sum_nested(item) for item in lst)\n",
    "\n",
    "def remove_element(lst, elem):\n",
    "    return [[item for item in sublist if item != elem] for sublist in lst]\n",
    "\n",
    "def deep_flatten(lst):\n",
    "    if not isinstance(lst, list):\n",
    "        return [lst]\n",
    "    result = []\n",
    "    for item in lst:\n",
    "        result.extend(deep_flatten(item))\n",
    "    return result\n",
    "\n",
    "def find_max(lst):\n",
    "    flat_list = deep_flatten(lst)\n",
    "    return max(flat_list)\n",
    "\n",
    "def count_occurrences(lst, elem):\n",
    "    flat_list = flatten(lst)\n",
    "    return flat_list.count(elem)\n",
    "\n",
    "def average_nested(lst):\n",
    "    flat_list = deep_flatten(lst)\n",
    "    return sum(flat_list) / len(flat_list) if flat_list else 0\n",
    "\n",
    "# Experiment: How Fast is Numpy?\n",
    "size = 1000000\n",
    "list1 = list(range(size))\n",
    "list2 = list(range(size))\n",
    "numpy_arr1 = np.arange(size)\n",
    "numpy_arr2 = np.arange(size)\n",
    "\n",
    "# Element-wise Addition\n",
    "start_time = time.time()\n",
    "list_addition = [list1[i] + list2[i] for i in range(size)]\n",
    "print(\"Time taken for addition using Python lists:\", time.time() - start_time)\n",
    "\n",
    "start_time = time.time()\n",
    "numpy_addition = numpy_arr1 + numpy_arr2\n",
    "print(\"Time taken for addition using NumPy:\", time.time() - start_time)\n",
    "\n",
    "# Element-wise Multiplication\n",
    "start_time = time.time()\n",
    "list_multiplication = [list1[i] * list2[i] for i in range(size)]\n",
    "print(\"Time taken for multiplication using Python lists:\", time.time() - start_time)\n",
    "\n",
    "start_time = time.time()\n",
    "numpy_multiplication = numpy_arr1 * numpy_arr2\n",
    "print(\"Time taken for multiplication using NumPy:\", time.time() - start_time)\n",
    "\n",
    "# Dot Product\n",
    "start_time = time.time()\n",
    "list_dot_product = sum(list1[i] * list2[i] for i in range(size))\n",
    "print(\"Time taken for dot product using Python lists:\", time.time() - start_time)\n",
    "\n",
    "start_time = time.time()\n",
    "numpy_dot_product = np.dot(numpy_arr1, numpy_arr2)\n",
    "print(\"Time taken for dot product using NumPy:\", time.time() - start_time)\n",
    "\n",
    "# Matrix Multiplication\n",
    "size_matrix = 1000\n",
    "matrix1 = [[i * j for j in range(size_matrix)] for i in range(size_matrix)]\n",
    "matrix2 = [[i + j for j in range(size_matrix)] for i in range(size_matrix)]\n",
    "numpy_matrix1 = np.array(matrix1)\n",
    "numpy_matrix2 = np.array(matrix2)\n",
    "\n",
    "start_time = time.time()\n",
    "result_matrix = [[sum(a * b for a, b in zip(row, col)) for col in zip(*matrix2)] for row in matrix1]\n",
    "print(\"Time taken for matrix multiplication using Python lists:\", time.time() - start_time)\n",
    "\n",
    "start_time = time.time()\n",
    "numpy_matrix_multiplication = np.dot(numpy_matrix1, numpy_matrix2)\n",
    "print(\"Time taken for matrix multiplication using NumPy:\", time.time() - start_time)"
   ]
  }
 ],
 "metadata": {
  "kernelspec": {
   "display_name": "Python 3 (ipykernel)",
   "language": "python",
   "name": "python3"
  },
  "language_info": {
   "codemirror_mode": {
    "name": "ipython",
    "version": 3
   },
   "file_extension": ".py",
   "mimetype": "text/x-python",
   "name": "python",
   "nbconvert_exporter": "python",
   "pygments_lexer": "ipython3",
   "version": "3.13.1"
  }
 },
 "nbformat": 4,
 "nbformat_minor": 5
}
